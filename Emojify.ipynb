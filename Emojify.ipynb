{
  "nbformat": 4,
  "nbformat_minor": 0,
  "metadata": {
    "colab": {
      "name": "Emojify.ipynb",
      "provenance": [],
      "collapsed_sections": [],
      "include_colab_link": true
    },
    "kernelspec": {
      "name": "python3",
      "display_name": "Python 3"
    }
  },
  "cells": [
    {
      "cell_type": "markdown",
      "metadata": {
        "id": "view-in-github",
        "colab_type": "text"
      },
      "source": [
        "<a href=\"https://colab.research.google.com/github/DrAlexSanz/Emojify/blob/master/Emojify.ipynb\" target=\"_parent\"><img src=\"https://colab.research.google.com/assets/colab-badge.svg\" alt=\"Open In Colab\"/></a>"
      ]
    },
    {
      "cell_type": "code",
      "metadata": {
        "id": "luQ4vH5XT5qM",
        "colab_type": "code",
        "outputId": "2571b7fc-3c56-4590-c71a-426772c2bf56",
        "colab": {
          "base_uri": "https://localhost:8080/",
          "height": 153
        }
      },
      "source": [
        "%cd \"/content\"\n",
        "!rm -rf Emojify\n",
        "\n",
        "!git clone https://github.com/DrAlexSanz/Emojify.git\n",
        "  \n",
        "%cd \"/content/Emojify\""
      ],
      "execution_count": 1,
      "outputs": [
        {
          "output_type": "stream",
          "text": [
            "/content\n",
            "Cloning into 'Emojify'...\n",
            "remote: Enumerating objects: 20, done.\u001b[K\n",
            "remote: Counting objects: 100% (20/20), done.\u001b[K\n",
            "remote: Compressing objects: 100% (17/17), done.\u001b[K\n",
            "remote: Total 20 (delta 3), reused 0 (delta 0), pack-reused 0\u001b[K\n",
            "Unpacking objects: 100% (20/20), done.\n",
            "/content/Emojify\n"
          ],
          "name": "stdout"
        }
      ]
    },
    {
      "cell_type": "code",
      "metadata": {
        "id": "uF7QaqIBUPjI",
        "colab_type": "code",
        "colab": {
          "base_uri": "https://localhost:8080/",
          "height": 207
        },
        "outputId": "4884f3d1-5aca-432c-b49e-1fe9da097621"
      },
      "source": [
        "!pip install emoji\n",
        "import numpy as np\n",
        "import emoji\n",
        "from emo_utils import *\n",
        "import matplotlib.pyplot as plt"
      ],
      "execution_count": 2,
      "outputs": [
        {
          "output_type": "stream",
          "text": [
            "Collecting emoji\n",
            "\u001b[?25l  Downloading https://files.pythonhosted.org/packages/40/8d/521be7f0091fe0f2ae690cc044faf43e3445e0ff33c574eae752dd7e39fa/emoji-0.5.4.tar.gz (43kB)\n",
            "\r\u001b[K     |███████▌                        | 10kB 14.6MB/s eta 0:00:01\r\u001b[K     |███████████████                 | 20kB 3.2MB/s eta 0:00:01\r\u001b[K     |██████████████████████▋         | 30kB 4.6MB/s eta 0:00:01\r\u001b[K     |██████████████████████████████▏ | 40kB 3.0MB/s eta 0:00:01\r\u001b[K     |████████████████████████████████| 51kB 3.4MB/s \n",
            "\u001b[?25hBuilding wheels for collected packages: emoji\n",
            "  Building wheel for emoji (setup.py) ... \u001b[?25l\u001b[?25hdone\n",
            "  Created wheel for emoji: filename=emoji-0.5.4-cp36-none-any.whl size=42175 sha256=1b47bb8d40e27dc06593ee1d61235671795d48dc1fc0cd7e49630ebf963ab319\n",
            "  Stored in directory: /root/.cache/pip/wheels/2a/a9/0a/4f8e8cce8074232aba240caca3fade315bb49fac68808d1a9c\n",
            "Successfully built emoji\n",
            "Installing collected packages: emoji\n",
            "Successfully installed emoji-0.5.4\n"
          ],
          "name": "stdout"
        }
      ]
    },
    {
      "cell_type": "code",
      "metadata": {
        "id": "jR4pGOCqNVuJ",
        "colab_type": "code",
        "colab": {}
      },
      "source": [
        "X_train, y_train = read_csv(\"Data/train_emoji.csv\")\n",
        "X_test, y_test = read_csv(\"Data/tesss.csv\")"
      ],
      "execution_count": 0,
      "outputs": []
    },
    {
      "cell_type": "markdown",
      "metadata": {
        "id": "yflu__5XNvkT",
        "colab_type": "text"
      },
      "source": [
        "Now I have all the data read, train and test."
      ]
    },
    {
      "cell_type": "code",
      "metadata": {
        "id": "n4ur_mr7U-9j",
        "colab_type": "code",
        "colab": {
          "base_uri": "https://localhost:8080/",
          "height": 34
        },
        "outputId": "52a8e712-1707-407a-8720-5f50a1a198a8"
      },
      "source": [
        "index = 13\n",
        "\n",
        "print(X_train[index], label_to_emoji(y_train[index]))"
      ],
      "execution_count": 5,
      "outputs": [
        {
          "output_type": "stream",
          "text": [
            "my algorithm performs poorly 😞\n"
          ],
          "name": "stdout"
        }
      ]
    },
    {
      "cell_type": "markdown",
      "metadata": {
        "id": "R5HU1ZU1VRrI",
        "colab_type": "text"
      },
      "source": [
        "This is a bit pessimistic. At least I'm not, but if you are, change the index and find a nicer one."
      ]
    },
    {
      "cell_type": "markdown",
      "metadata": {
        "id": "JfZSQA-PWlma",
        "colab_type": "text"
      },
      "source": [
        "Since the labels are numerical, 0, 1, 2, etc. I have to convert them to one-hot encoding. I just happen to have a function for this. How convenient and how elegant."
      ]
    },
    {
      "cell_type": "code",
      "metadata": {
        "id": "-vZuCqMyW3RF",
        "colab_type": "code",
        "colab": {}
      },
      "source": [
        "Y_oh_train = convert_to_one_hot(y_train, C = 5)\n",
        "Y_oh_test = convert_to_one_hot(y_test, C = 5)"
      ],
      "execution_count": 0,
      "outputs": []
    },
    {
      "cell_type": "code",
      "metadata": {
        "id": "dK2dl8IfXHH1",
        "colab_type": "code",
        "colab": {
          "base_uri": "https://localhost:8080/",
          "height": 34
        },
        "outputId": "786aacb5-bd30-4671-fa6f-662ba7602abc"
      },
      "source": [
        "# To test\n",
        "index = 13\n",
        "print(str(y_train[index]) + \" converted to one-hot is \" + str(Y_oh_train[index]))"
      ],
      "execution_count": 15,
      "outputs": [
        {
          "output_type": "stream",
          "text": [
            "3 converted to one-hot is [0. 0. 0. 1. 0.]\n"
          ],
          "name": "stdout"
        }
      ]
    },
    {
      "cell_type": "markdown",
      "metadata": {
        "id": "jnk-WVoEYIt4",
        "colab_type": "text"
      },
      "source": [
        "Now one thing I should do is to read the GloVe vectors. I have them somewhere in google drive."
      ]
    },
    {
      "cell_type": "code",
      "metadata": {
        "id": "o9xS-cD1YO7P",
        "colab_type": "code",
        "colab": {
          "base_uri": "https://localhost:8080/",
          "height": 122
        },
        "outputId": "1d6f83ae-42ca-488c-8e41-bae36a0cfd5e"
      },
      "source": [
        "from google.colab import drive\n",
        "drive.mount('/content/drive')"
      ],
      "execution_count": 16,
      "outputs": [
        {
          "output_type": "stream",
          "text": [
            "Go to this URL in a browser: https://accounts.google.com/o/oauth2/auth?client_id=947318989803-6bn6qk8qdgf4n4g3pfee6491hc0brc4i.apps.googleusercontent.com&redirect_uri=urn%3Aietf%3Awg%3Aoauth%3A2.0%3Aoob&scope=email%20https%3A%2F%2Fwww.googleapis.com%2Fauth%2Fdocs.test%20https%3A%2F%2Fwww.googleapis.com%2Fauth%2Fdrive%20https%3A%2F%2Fwww.googleapis.com%2Fauth%2Fdrive.photos.readonly%20https%3A%2F%2Fwww.googleapis.com%2Fauth%2Fpeopleapi.readonly&response_type=code\n",
            "\n",
            "Enter your authorization code:\n",
            "··········\n",
            "Mounted at /content/drive\n"
          ],
          "name": "stdout"
        }
      ]
    },
    {
      "cell_type": "code",
      "metadata": {
        "id": "QpYEqLrzYiBi",
        "colab_type": "code",
        "colab": {}
      },
      "source": [
        "word_to_index, index_to_word, word_to_vec_map = read_glove_vecs(\"/content/drive/My Drive/Glove/glove.6B.50d.txt\")"
      ],
      "execution_count": 0,
      "outputs": []
    },
    {
      "cell_type": "markdown",
      "metadata": {
        "id": "o5sU8b80Y593",
        "colab_type": "text"
      },
      "source": [
        "As a reminder:\n",
        "\n",
        "\n",
        "*   word to index is a dictionary mapping, from word to the indices of the vocabulary.\n",
        "*   index to word is the inverse mapping.\n",
        "*   word to vec is the mapping of word towards vector.\n",
        "\n",
        "If I want an index to vec mapping I need ot do it in two steps, but just that.\n",
        "\n"
      ]
    },
    {
      "cell_type": "code",
      "metadata": {
        "id": "R6m2Zhn4ZdUr",
        "colab_type": "code",
        "colab": {
          "base_uri": "https://localhost:8080/",
          "height": 51
        },
        "outputId": "df0d99f8-027e-4aa1-9e59-dbe462922bed"
      },
      "source": [
        "#Check this. Words are uncased!!\n",
        "\n",
        "word = \"cucumber\"\n",
        "index =325651\n",
        "\n",
        "print(\"The index of \" + word + \" is: \" + str(word_to_index[word]))\n",
        "print(\"The word for index \" + str(index) + \" is \" + str(index_to_word[index]))"
      ],
      "execution_count": 24,
      "outputs": [
        {
          "output_type": "stream",
          "text": [
            "The index of cucumber is: 113317\n",
            "The word for index 325651 is serpent\n"
          ],
          "name": "stdout"
        }
      ]
    },
    {
      "cell_type": "markdown",
      "metadata": {
        "id": "7LdtKjhIlHpq",
        "colab_type": "text"
      },
      "source": [
        "Implement sentence to average. Take a sentence, split it and get the average of the 50D encoding. This will be useful later."
      ]
    },
    {
      "cell_type": "code",
      "metadata": {
        "id": "vmKjffAglZRT",
        "colab_type": "code",
        "colab": {}
      },
      "source": [
        "def sentence_to_avg(sentence, word_to_vec_map):\n",
        "    \"\"\"\n",
        "    The function takes a sentence, makes it lowercase and split it and then convert the words to the vector repesentation\n",
        "    Then the vectors are averaged\n",
        "    \n",
        "    Inputs: Sentence (string) and word_to_vec mapping\n",
        "    \n",
        "    Output: The average of the vector encoding    \n",
        "    \"\"\"\n",
        "    \n",
        "    # Split and lowercase\n",
        "    \n",
        "    words = [i.lower() for i in sentence.split()]\n",
        "    \n",
        "    #Initialize average\n",
        "    avg = np.zeros((50,))\n",
        "    \n",
        "    for w in words:\n",
        "        avg = avg + word_to_vec_map[w]\n",
        "    \n",
        "    avg = avg / len(words)\n",
        "    \n",
        "    return avg"
      ],
      "execution_count": 0,
      "outputs": []
    },
    {
      "cell_type": "code",
      "metadata": {
        "id": "QT9y77R2mse6",
        "colab_type": "code",
        "colab": {}
      },
      "source": [
        "cipote = sentence_to_avg(\"I am freezing my balls off\", word_to_vec_map)\n",
        "print(cipote)"
      ],
      "execution_count": 0,
      "outputs": []
    }
  ]
}