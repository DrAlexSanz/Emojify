{
  "nbformat": 4,
  "nbformat_minor": 0,
  "metadata": {
    "colab": {
      "name": "Emojify.ipynb",
      "provenance": [],
      "collapsed_sections": [],
      "toc_visible": true,
      "include_colab_link": true
    },
    "kernelspec": {
      "name": "python3",
      "display_name": "Python 3"
    }
  },
  "cells": [
    {
      "cell_type": "markdown",
      "metadata": {
        "id": "view-in-github",
        "colab_type": "text"
      },
      "source": [
        "<a href=\"https://colab.research.google.com/github/DrAlexSanz/Emojify/blob/master/Emojify.ipynb\" target=\"_parent\"><img src=\"https://colab.research.google.com/assets/colab-badge.svg\" alt=\"Open In Colab\"/></a>"
      ]
    },
    {
      "cell_type": "code",
      "metadata": {
        "id": "luQ4vH5XT5qM",
        "colab_type": "code",
        "outputId": "96df3486-fb30-46bc-d829-fc041d7d93aa",
        "colab": {
          "base_uri": "https://localhost:8080/",
          "height": 153
        }
      },
      "source": [
        "%cd \"/content\"\n",
        "!rm -rf Emojify\n",
        "\n",
        "!git clone https://github.com/DrAlexSanz/Emojify.git\n",
        "  \n",
        "%cd \"/content/Emojify\""
      ],
      "execution_count": 1,
      "outputs": [
        {
          "output_type": "stream",
          "text": [
            "/content\n",
            "Cloning into 'Emojify'...\n",
            "remote: Enumerating objects: 34, done.\u001b[K\n",
            "remote: Counting objects: 100% (34/34), done.\u001b[K\n",
            "remote: Compressing objects: 100% (31/31), done.\u001b[K\n",
            "remote: Total 34 (delta 9), reused 0 (delta 0), pack-reused 0\n",
            "Unpacking objects: 100% (34/34), done.\n",
            "/content/Emojify\n"
          ],
          "name": "stdout"
        }
      ]
    },
    {
      "cell_type": "code",
      "metadata": {
        "id": "uF7QaqIBUPjI",
        "colab_type": "code",
        "outputId": "40148239-58aa-4873-df30-8e71fbeb40a7",
        "colab": {
          "base_uri": "https://localhost:8080/",
          "height": 207
        }
      },
      "source": [
        "!pip install emoji\n",
        "import numpy as np\n",
        "import emoji\n",
        "from emo_utils import *\n",
        "import matplotlib.pyplot as plt"
      ],
      "execution_count": 2,
      "outputs": [
        {
          "output_type": "stream",
          "text": [
            "Collecting emoji\n",
            "\u001b[?25l  Downloading https://files.pythonhosted.org/packages/40/8d/521be7f0091fe0f2ae690cc044faf43e3445e0ff33c574eae752dd7e39fa/emoji-0.5.4.tar.gz (43kB)\n",
            "\u001b[K     |████████████████████████████████| 51kB 3.4MB/s \n",
            "\u001b[?25hBuilding wheels for collected packages: emoji\n",
            "  Building wheel for emoji (setup.py) ... \u001b[?25l\u001b[?25hdone\n",
            "  Created wheel for emoji: filename=emoji-0.5.4-cp36-none-any.whl size=42175 sha256=1a979d5c3ce567d1ad6edd0957e7aac450008e448bb5e9037c787b254de77cca\n",
            "  Stored in directory: /root/.cache/pip/wheels/2a/a9/0a/4f8e8cce8074232aba240caca3fade315bb49fac68808d1a9c\n",
            "Successfully built emoji\n",
            "Installing collected packages: emoji\n",
            "Successfully installed emoji-0.5.4\n"
          ],
          "name": "stdout"
        }
      ]
    },
    {
      "cell_type": "code",
      "metadata": {
        "id": "jR4pGOCqNVuJ",
        "colab_type": "code",
        "colab": {}
      },
      "source": [
        "X_train, y_train = read_csv(\"Data/train_emoji.csv\")\n",
        "X_test, y_test = read_csv(\"Data/tesss.csv\")"
      ],
      "execution_count": 0,
      "outputs": []
    },
    {
      "cell_type": "markdown",
      "metadata": {
        "id": "yflu__5XNvkT",
        "colab_type": "text"
      },
      "source": [
        "Now I have all the data read, train and test."
      ]
    },
    {
      "cell_type": "code",
      "metadata": {
        "id": "n4ur_mr7U-9j",
        "colab_type": "code",
        "outputId": "fddae5ae-02a8-4e3a-b4c8-fe2c297c9103",
        "colab": {
          "base_uri": "https://localhost:8080/",
          "height": 34
        }
      },
      "source": [
        "index = 13\n",
        "\n",
        "print(X_train[index], label_to_emoji(y_train[index]))"
      ],
      "execution_count": 4,
      "outputs": [
        {
          "output_type": "stream",
          "text": [
            "my algorithm performs poorly 😞\n"
          ],
          "name": "stdout"
        }
      ]
    },
    {
      "cell_type": "markdown",
      "metadata": {
        "id": "R5HU1ZU1VRrI",
        "colab_type": "text"
      },
      "source": [
        "This is a bit pessimistic. At least I'm not, but if you are, change the index and find a nicer one."
      ]
    },
    {
      "cell_type": "markdown",
      "metadata": {
        "id": "JfZSQA-PWlma",
        "colab_type": "text"
      },
      "source": [
        "Since the labels are numerical, 0, 1, 2, etc. I have to convert them to one-hot encoding. I just happen to have a function for this. How convenient and how elegant."
      ]
    },
    {
      "cell_type": "code",
      "metadata": {
        "id": "-vZuCqMyW3RF",
        "colab_type": "code",
        "colab": {}
      },
      "source": [
        "Y_oh_train = convert_to_one_hot(y_train, C = 5)\n",
        "Y_oh_test = convert_to_one_hot(y_test, C = 5)"
      ],
      "execution_count": 0,
      "outputs": []
    },
    {
      "cell_type": "code",
      "metadata": {
        "id": "dK2dl8IfXHH1",
        "colab_type": "code",
        "outputId": "550f969d-632b-4b4e-d192-571fa06c442d",
        "colab": {
          "base_uri": "https://localhost:8080/",
          "height": 34
        }
      },
      "source": [
        "# To test\n",
        "index = 13\n",
        "print(str(y_train[index]) + \" converted to one-hot is \" + str(Y_oh_train[index]))"
      ],
      "execution_count": 6,
      "outputs": [
        {
          "output_type": "stream",
          "text": [
            "3 converted to one-hot is [0. 0. 0. 1. 0.]\n"
          ],
          "name": "stdout"
        }
      ]
    },
    {
      "cell_type": "markdown",
      "metadata": {
        "id": "jnk-WVoEYIt4",
        "colab_type": "text"
      },
      "source": [
        "Now one thing I should do is to read the GloVe vectors. I have them somewhere in google drive."
      ]
    },
    {
      "cell_type": "code",
      "metadata": {
        "id": "o9xS-cD1YO7P",
        "colab_type": "code",
        "outputId": "d2c44e77-e8c2-43cd-b816-aede95fc5710",
        "colab": {
          "base_uri": "https://localhost:8080/",
          "height": 122
        }
      },
      "source": [
        "from google.colab import drive\n",
        "drive.mount('/content/drive')"
      ],
      "execution_count": 7,
      "outputs": [
        {
          "output_type": "stream",
          "text": [
            "Go to this URL in a browser: https://accounts.google.com/o/oauth2/auth?client_id=947318989803-6bn6qk8qdgf4n4g3pfee6491hc0brc4i.apps.googleusercontent.com&redirect_uri=urn%3Aietf%3Awg%3Aoauth%3A2.0%3Aoob&scope=email%20https%3A%2F%2Fwww.googleapis.com%2Fauth%2Fdocs.test%20https%3A%2F%2Fwww.googleapis.com%2Fauth%2Fdrive%20https%3A%2F%2Fwww.googleapis.com%2Fauth%2Fdrive.photos.readonly%20https%3A%2F%2Fwww.googleapis.com%2Fauth%2Fpeopleapi.readonly&response_type=code\n",
            "\n",
            "Enter your authorization code:\n",
            "··········\n",
            "Mounted at /content/drive\n"
          ],
          "name": "stdout"
        }
      ]
    },
    {
      "cell_type": "code",
      "metadata": {
        "id": "QpYEqLrzYiBi",
        "colab_type": "code",
        "colab": {}
      },
      "source": [
        "word_to_index, index_to_word, word_to_vec_map = read_glove_vecs(\"/content/drive/My Drive/Glove/glove.6B.50d.txt\")"
      ],
      "execution_count": 0,
      "outputs": []
    },
    {
      "cell_type": "markdown",
      "metadata": {
        "id": "o5sU8b80Y593",
        "colab_type": "text"
      },
      "source": [
        "As a reminder:\n",
        "\n",
        "\n",
        "*   word to index is a dictionary mapping, from word to the indices of the vocabulary.\n",
        "*   index to word is the inverse mapping.\n",
        "*   word to vec is the mapping of word towards vector.\n",
        "\n",
        "If I want an index to vec mapping I need ot do it in two steps, but just that.\n",
        "\n"
      ]
    },
    {
      "cell_type": "code",
      "metadata": {
        "id": "R6m2Zhn4ZdUr",
        "colab_type": "code",
        "outputId": "5e0e5ba5-b277-4320-981a-5bb9e5605b1b",
        "colab": {
          "base_uri": "https://localhost:8080/",
          "height": 51
        }
      },
      "source": [
        "#Check this. Words are uncased!!\n",
        "\n",
        "word = \"cucumber\"\n",
        "index =325651\n",
        "\n",
        "print(\"The index of \" + word + \" is: \" + str(word_to_index[word]))\n",
        "print(\"The word for index \" + str(index) + \" is \" + str(index_to_word[index]))"
      ],
      "execution_count": 9,
      "outputs": [
        {
          "output_type": "stream",
          "text": [
            "The index of cucumber is: 113317\n",
            "The word for index 325651 is serpent\n"
          ],
          "name": "stdout"
        }
      ]
    },
    {
      "cell_type": "markdown",
      "metadata": {
        "id": "7LdtKjhIlHpq",
        "colab_type": "text"
      },
      "source": [
        "Implement sentence to average. Take a sentence, split it and get the average of the 50D encoding. This will be useful later."
      ]
    },
    {
      "cell_type": "code",
      "metadata": {
        "id": "vmKjffAglZRT",
        "colab_type": "code",
        "colab": {}
      },
      "source": [
        "def sentence_to_avg(sentence, word_to_vec_map):\n",
        "    \"\"\"\n",
        "    The function takes a sentence, makes it lowercase and split it and then convert the words to the vector repesentation\n",
        "    Then the vectors are averaged\n",
        "    \n",
        "    Inputs: Sentence (string) and word_to_vec mapping\n",
        "    \n",
        "    Output: The average of the vector encoding    \n",
        "    \"\"\"\n",
        "    \n",
        "    # Split and lowercase\n",
        "    \n",
        "    words = [i.lower() for i in sentence.split()]\n",
        "    \n",
        "    #Initialize average\n",
        "    avg = np.zeros((50,))\n",
        "    \n",
        "    for w in words:\n",
        "        avg = avg + word_to_vec_map[w]\n",
        "    \n",
        "    avg = avg / len(words)\n",
        "    \n",
        "    return avg"
      ],
      "execution_count": 0,
      "outputs": []
    },
    {
      "cell_type": "code",
      "metadata": {
        "id": "QT9y77R2mse6",
        "colab_type": "code",
        "outputId": "f95d2ddc-ae17-4cb4-f0ed-ee04d7dd8013",
        "colab": {
          "base_uri": "https://localhost:8080/",
          "height": 170
        }
      },
      "source": [
        "cipote = sentence_to_avg(\"I am freezing my balls off\", word_to_vec_map)\n",
        "print(cipote)"
      ],
      "execution_count": 11,
      "outputs": [
        {
          "output_type": "stream",
          "text": [
            "[-0.051069    0.12433     0.081878   -0.5130015   0.29943    -0.26324583\n",
            " -0.23595083  0.425795   -0.2300275   0.0600616  -0.323376    0.24681933\n",
            " -0.52268167  0.24817317  0.56375333  0.35045883  0.0247455   0.06972833\n",
            " -0.56337367 -0.508585   -0.049363    0.75631733  0.83157167  0.01987943\n",
            "  0.70788167 -1.47618815 -0.19596167  0.57402167  0.99243833 -0.41436\n",
            "  2.91251667  0.53820067 -0.328577    0.65779    -0.08201983 -0.11146383\n",
            "  0.37991033  0.29880333  0.40358167 -0.09752667 -0.10254905 -0.03126967\n",
            "  0.06808833  0.55769467  0.038393    0.17677167 -0.061905   -0.42140067\n",
            "  0.04015717  0.10534333]\n"
          ],
          "name": "stdout"
        }
      ]
    },
    {
      "cell_type": "markdown",
      "metadata": {
        "id": "tBSbVnc0FHj5",
        "colab_type": "text"
      },
      "source": [
        "So with this function, I'll take the average output and do the forward/ backward cycle. I use the cross-entropy as the loss and the y predicted is assumed to be the one-hot encoding of the labels.\n",
        "\n",
        "$$ z^{(i)} = W . avg^{(i)} + b$$$$ a^{(i)} = softmax(z^{(i)})$$$$ \\mathcal{L}^{(i)} = - \\sum_{k = 0}^{n_y - 1} Yoh^{(i)}_k * log(a^{(i)}_k)$$"
      ]
    },
    {
      "cell_type": "code",
      "metadata": {
        "id": "tXYsMQMoFc8B",
        "colab_type": "code",
        "colab": {}
      },
      "source": [
        "def model(X, Y, word_to_vec_map, learning_rate, num_iterations):\n",
        "    \"\"\"\n",
        "    This function trains the model itself.\n",
        "    \n",
        "    inputs. X, Y are the data + labels, (m, 1) in shape and Y is NOT the One-Hot encoding. Other inputs are self explanatory.\n",
        "    \n",
        "    Output: pred is the vector of predictions, (m, 1)\n",
        "            W is the weight matrix of the softmax layer (last one). Shape (n_y, n_h)\n",
        "            b is the bias of the softmax layer. Shape (n_y,)\n",
        "    \"\"\"\n",
        "    \n",
        "    np.random.seed(1)\n",
        "    \n",
        "    # Get shapes\n",
        "    \n",
        "    m = Y.shape[0]\n",
        "    n_y = 5 # Classes!!\n",
        "    n_h = 50 # This is from the glove vectors.\n",
        "    \n",
        "    # Initialize W, b using Xavier initialization. Manually because I can.\n",
        "    \n",
        "    W = np.random.randn(n_y, n_h)/np.sqrt(n_h)\n",
        "    b = np.random.randn(n_y,)\n",
        "    \n",
        "    # Convert to one hot.\n",
        "    \n",
        "    Y_oh = convert_to_one_hot(Y, C = n_y)\n",
        "    \n",
        "    # The optimization loop. Loop over every example and then do it for n iterations.\n",
        "    \n",
        "    for iter in range(num_iterations):\n",
        "        for i in range(m):\n",
        "            \n",
        "            # Get average for input\n",
        "            avg = sentence_to_avg(X[i], word_to_vec_map)\n",
        "            \n",
        "            # Forward prop. Check the equations above.\n",
        "            z = np.dot(W, avg) + b\n",
        "            a = softmax(z)\n",
        "            \n",
        "            # Compute cost\n",
        "            cost = -np.sum(np.multiply(Y_oh[i], np.log(a)))\n",
        "            \n",
        "            # Gradients! Check it by hand because this is not obvious.\n",
        "            dz = a - Y_oh[i]\n",
        "            dW = np.dot(dz.reshape(n_y, 1), avg.reshape(1, n_h))\n",
        "            db = dz\n",
        "            \n",
        "            # Update\n",
        "            W = W - learning_rate * dW\n",
        "            b = b - learning_rate * db\n",
        "            \n",
        "            # Print some of them\n",
        "            \n",
        "        if iter % 100 == 0:\n",
        "            print(\"At iteration \" + str(iter) + \" the cost is \" + str(cost))\n",
        "            pred = predict(X, Y, W, b, word_to_vec_map)\n",
        "\n",
        "    return pred, W, b"
      ],
      "execution_count": 0,
      "outputs": []
    },
    {
      "cell_type": "code",
      "metadata": {
        "id": "vxZmH20yKJ0L",
        "colab_type": "code",
        "outputId": "38546c4c-e53a-4b24-8382-d401ff7cbd6c",
        "colab": {
          "base_uri": "https://localhost:8080/",
          "height": 153
        }
      },
      "source": [
        "learn = 0.01\n",
        "num_iter = 400\n",
        "\n",
        "pred, W, b = model(X_train, y_train, word_to_vec_map, learn, num_iter)\n",
        "# print(pred)"
      ],
      "execution_count": 13,
      "outputs": [
        {
          "output_type": "stream",
          "text": [
            "At iteration 0 the cost is 2.1300543103075373\n",
            "Accuracy: 0.3106060606060606\n",
            "At iteration 100 the cost is 0.09053564064959209\n",
            "Accuracy: 0.9318181818181818\n",
            "At iteration 200 the cost is 0.049156948876741956\n",
            "Accuracy: 0.946969696969697\n",
            "At iteration 300 the cost is 0.03715457018186422\n",
            "Accuracy: 0.9696969696969697\n"
          ],
          "name": "stdout"
        }
      ]
    },
    {
      "cell_type": "markdown",
      "metadata": {
        "id": "ETPirAlFL1N2",
        "colab_type": "text"
      },
      "source": [
        "So around 96 % accuracy on the train set, let's check the test set accuracy."
      ]
    },
    {
      "cell_type": "code",
      "metadata": {
        "id": "GeVV8zNhL7Vn",
        "colab_type": "code",
        "outputId": "f6aa8361-672c-4720-da4f-19f77e692829",
        "colab": {
          "base_uri": "https://localhost:8080/",
          "height": 85
        }
      },
      "source": [
        "print(\"Train set prediction:\")\n",
        "pred_train = predict(X_train, y_train, W, b, word_to_vec_map)\n",
        "# print(pred_train)\n",
        "\n",
        "print(\"Test set prediction:\")\n",
        "pred_test = predict(X_test, y_test, W, b, word_to_vec_map)\n",
        "# print(pred_test)"
      ],
      "execution_count": 14,
      "outputs": [
        {
          "output_type": "stream",
          "text": [
            "Train set prediction:\n",
            "Accuracy: 0.9772727272727273\n",
            "Test set prediction:\n",
            "Accuracy: 0.8571428571428571\n"
          ],
          "name": "stdout"
        }
      ]
    },
    {
      "cell_type": "markdown",
      "metadata": {
        "id": "xYw6ywbYMbvU",
        "colab_type": "text"
      },
      "source": [
        "Not too bad! From 97% to almost 86% test set accuracy. For a tiny dataset this is very good. Last check."
      ]
    },
    {
      "cell_type": "code",
      "metadata": {
        "id": "GivgCGA-MuIK",
        "colab_type": "code",
        "outputId": "4f94309a-27ab-409e-8421-857ba633ecca",
        "colab": {
          "base_uri": "https://localhost:8080/",
          "height": 153
        }
      },
      "source": [
        "X_my_sentences = np.array([\"i adore you\", \"i love you\", \"funny lol\", \"lets play with a ball\", \"food is ready\", \"not feeling happy\"])\n",
        "Y_my_labels = np.array([[0], [0], [2], [1], [4],[3]])\n",
        "\n",
        "pred = predict(X_my_sentences, Y_my_labels, W, b, word_to_vec_map)\n",
        "print_predictions(X_my_sentences, pred)"
      ],
      "execution_count": 15,
      "outputs": [
        {
          "output_type": "stream",
          "text": [
            "Accuracy: 0.8333333333333334\n",
            "\n",
            "i adore you ❤️\n",
            "i love you ❤️\n",
            "funny lol 😄\n",
            "lets play with a ball ⚾\n",
            "food is ready 🍴\n",
            "not feeling happy 😄\n"
          ],
          "name": "stdout"
        }
      ]
    },
    {
      "cell_type": "markdown",
      "metadata": {
        "id": "gZdRI-wXNBI5",
        "colab_type": "text"
      },
      "source": [
        "Because adore has a similar embedding as love, the algorithm has generalized correctly even to a word it has never seen before. Words such as heart, dear, beloved or adore have embedding vectors similar to love, and so might work too. However the not feeling happy doesn't work well. It doesn't remember the not because the model only averages words, it doesn't understand the combinations. Not surprising, but still impressive for such a simple model.\n",
        "To avoid this problem let's try a LSTM."
      ]
    },
    {
      "cell_type": "code",
      "metadata": {
        "id": "cbEe39Z8jAMP",
        "colab_type": "code",
        "colab": {}
      },
      "source": [
        "np.random.seed(1)\n",
        "\n",
        "from keras.models import Model\n",
        "from keras.utils import plot_model\n",
        "from keras.layers import LSTM, Dense, Input, Dropout, Activation\n",
        "from keras.layers.embeddings import Embedding\n",
        "from keras.preprocessing import sequence\n",
        "from keras.initializers import glorot_uniform\n",
        "\n",
        "from keras.callbacks import History\n",
        "from keras import optimizers\n"
      ],
      "execution_count": 0,
      "outputs": []
    },
    {
      "cell_type": "markdown",
      "metadata": {
        "id": "CIxko2zblL6R",
        "colab_type": "text"
      },
      "source": [
        "Most deep learning frameworks require that all sequences in the same mini-batch have the same length. This is what allows vectorization to work: If you had a 3-word sentence and a 4-word sentence, then the computations needed for them are different (one takes 3 steps of an LSTM, one takes 4 steps) so it's just not possible to do them both at the same time.\n",
        "\n",
        "The common solution to this is to use padding. Specifically, set a maximum sequence length, and pad all sequences to the same length. For example, of the maximum sequence length is 20, we could pad every sentence with \"0\"s at the end so that each input sentence is of length 20. Thus, a sentence \"i love you\" would be represented as $(e_{i}, e_{love}, e_{you}, \\vec{0}, \\vec{0}, \\ldots, \\vec{0})$. In this example, any sentences longer than 20 words would have to be truncated. One simple way to choose the maximum sequence length is to just pick the length of the longest sentence in the training set."
      ]
    },
    {
      "cell_type": "markdown",
      "metadata": {
        "id": "3uCarywqm3pN",
        "colab_type": "text"
      },
      "source": [
        "## The Embedding layer\n",
        "In Keras, the embedding matrix is represented as a \"layer\", and maps positive integers (indices corresponding to words) into dense vectors of fixed size (the embedding vectors). It can be trained or initialized with a pretrained embedding. In this part, you will learn how to create an Embedding() layer in Keras, initialize it with the GloVe 50-dimensional vectors loaded earlier in the notebook. Because our training set is quite small, we will not update the word embeddings but will instead leave their values fixed. But in the code below, we'll show you how Keras allows you to either train or leave fixed this layer.\n",
        "\n",
        "The Embedding() layer takes an integer matrix of size (batch size, max input length) as input. This corresponds to sentences converted into lists of indices (integers), as shown in the figure below.\n",
        "\n",
        "The largest integer (i.e. word index) in the input should be no larger than the vocabulary size. The layer outputs an array of shape (batch size, max input length, dimension of word vectors).\n",
        "\n",
        "The first step is to convert all the training sentences into lists of indices, and then zero-pad all these lists so that their length is the length of the longest sentence."
      ]
    },
    {
      "cell_type": "code",
      "metadata": {
        "id": "rXUcIqefnEHw",
        "colab_type": "code",
        "outputId": "a8f7873a-5a02-421b-f5cd-3923e59b917e",
        "colab": {
          "base_uri": "https://localhost:8080/",
          "height": 331
        }
      },
      "source": [
        "embedding1 = plt.imread(\"embedding1.png\")\n",
        "plt.figure(figsize = (15, 10))\n",
        "plt.imshow(embedding1)"
      ],
      "execution_count": 17,
      "outputs": [
        {
          "output_type": "execute_result",
          "data": {
            "text/plain": [
              "<matplotlib.image.AxesImage at 0x7fbdd9613cf8>"
            ]
          },
          "metadata": {
            "tags": []
          },
          "execution_count": 17
        },
        {
          "output_type": "display_data",
          "data": {
            "image/png": "[encoded data removed]",
            "text/plain": [
              "<Figure size 1080x720 with 1 Axes>"
            ]
          },
          "metadata": {
            "tags": []
          }
        }
      ]
    },
    {
      "cell_type": "code",
      "metadata": {
        "id": "G0cNBW25oceD",
        "colab_type": "code",
        "colab": {}
      },
      "source": [
        "def sentences_to_indices(X, word_to_index, max_len):\n",
        "    \"\"\"\n",
        "    This function takes a batch of sentences (strings), does the lower() and strip() and then converts the sentence to indices\n",
        "    \n",
        "    Inputs: X are the m phrases in string format.\n",
        "            word_to_index is the mapping\n",
        "            max len is the maximum length of a phrase found in X, for the padding\n",
        "            \n",
        "    Outputs: a batch of indices (X_indices), shape is (m, max_len)    \n",
        "    \"\"\"\n",
        "    \n",
        "    m = X.shape[0]\n",
        "    \n",
        "    X_indices = np.zeros((m, max_len)) # The zeroes of the shorter sentences won't be changed.\n",
        "    \n",
        "    for i in range(m):\n",
        "        sentence_words = [w.lower() for w in X[i].split()]\n",
        "        \n",
        "        j = 0 # For the columns, i was for the rows. Don't lose track of this.\n",
        "        \n",
        "        for w in sentence_words:\n",
        "            X_indices[i, j] = word_to_index[w]\n",
        "            j = j + 1\n",
        "            \n",
        "    return X_indices"
      ],
      "execution_count": 0,
      "outputs": []
    },
    {
      "cell_type": "code",
      "metadata": {
        "id": "VOJ-6RHBqUQm",
        "colab_type": "code",
        "outputId": "9b6d3efa-84f2-4a6f-eba7-c9235722b0cb",
        "colab": {
          "base_uri": "https://localhost:8080/",
          "height": 85
        }
      },
      "source": [
        "# Now check\n",
        "\n",
        "X1 = np.array([\"funny lol\", \"lets play baseball\", \"food is ready for you\"])\n",
        "\n",
        "X1_indices = sentences_to_indices(X1, word_to_index, max_len = 5)\n",
        "\n",
        "print(\"X1 = \", X1)\n",
        "print(\"X1 indices = \", X1_indices)"
      ],
      "execution_count": 19,
      "outputs": [
        {
          "output_type": "stream",
          "text": [
            "X1 =  ['funny lol' 'lets play baseball' 'food is ready for you']\n",
            "X1 indices =  [[155345. 225122.      0.      0.      0.]\n",
            " [220930. 286375.  69714.      0.      0.]\n",
            " [151204. 192973. 302254. 151349. 394475.]]\n"
          ],
          "name": "stdout"
        }
      ]
    },
    {
      "cell_type": "code",
      "metadata": {
        "id": "cGzX8VEwrz9i",
        "colab_type": "code",
        "colab": {}
      },
      "source": [
        "def pretrained_embedding_layer(word_to_vec_map, word_to_index):\n",
        "    \"\"\"\n",
        "    This function creates an embedding layer in keras and loads the pretrained 50D glove vectors\n",
        "    \n",
        "    Input, the the two dictionaries\n",
        "    \n",
        "    Output: an embedding layer    \n",
        "    \"\"\"\n",
        "    \n",
        "    vocab_len = len(word_to_index) + 1 # The numbering.\n",
        "    \n",
        "    emb_dim = word_to_vec_map[\"cucumber\"].shape[0] # I could take another word too. This one is ok.\n",
        "    \n",
        "    # Initialize embedding matrix\n",
        "    \n",
        "    emb_matrix = np.zeros((vocab_len, emb_dim))\n",
        "    \n",
        "    # Set each row (index) of emb_matrix to be the vector representation of the indexth word of the vocabulary\n",
        "    \n",
        "    for word, index in word_to_index.items():\n",
        "        emb_matrix[index, :] = word_to_vec_map[word]\n",
        "        \n",
        "    # Define the embedding layer\n",
        "    \n",
        "    embedding_layer = Embedding(vocab_len, emb_dim, trainable = False)\n",
        "    \n",
        "    # And now build the embedding layer. None is the dimension of the mini batch.\n",
        "    \n",
        "    embedding_layer.build((None,))\n",
        "    \n",
        "    # Set the weights of the embedding layer, I have them pretrained\n",
        "    \n",
        "    embedding_layer.set_weights([emb_matrix])\n",
        "    \n",
        "    return embedding_layer"
      ],
      "execution_count": 0,
      "outputs": []
    },
    {
      "cell_type": "code",
      "metadata": {
        "id": "74dPCUcutzS9",
        "colab_type": "code",
        "colab": {}
      },
      "source": [
        "embedding_layer = pretrained_embedding_layer(word_to_vec_map, word_to_index)\n",
        "\n",
        "print(\"Weights[0][1][3] = \", embedding_layer.get_weights()[0][1][3])"
      ],
      "execution_count": 0,
      "outputs": []
    },
    {
      "cell_type": "markdown",
      "metadata": {
        "id": "trhzTjdIumMx",
        "colab_type": "text"
      },
      "source": [
        "Now this is the network I will implement."
      ]
    },
    {
      "cell_type": "code",
      "metadata": {
        "id": "5HQVqvOdutak",
        "colab_type": "code",
        "outputId": "447bb7b7-025f-4c3e-fbf5-a09804a9071c",
        "colab": {
          "base_uri": "https://localhost:8080/",
          "height": 612
        }
      },
      "source": [
        "net1 = plt.imread(\"emojifier-v2.png\")\n",
        "plt.figure(figsize = (15, 10))\n",
        "plt.imshow(net1)"
      ],
      "execution_count": 22,
      "outputs": [
        {
          "output_type": "execute_result",
          "data": {
            "text/plain": [
              "<matplotlib.image.AxesImage at 0x7fbdd4d12860>"
            ]
          },
          "metadata": {
            "tags": []
          },
          "execution_count": 22
        },
        {
          "output_type": "display_data",
          "data": {
            "image/png": "[encoded data removed]",
            "text/plain": [
              "<Figure size 1080x720 with 1 Axes>"
            ]
          },
          "metadata": {
            "tags": []
          }
        }
      ]
    },
    {
      "cell_type": "code",
      "metadata": {
        "id": "4ecbQFOpQLhW",
        "colab_type": "code",
        "colab": {}
      },
      "source": [
        "def Emojifyv2(input_shape, word_to_vec_map, word_to_index):\n",
        "    \"\"\"\n",
        "    Function to create a 128 (in this case) network graph. It's not compiled inside this function.\n",
        "    \n",
        "    Input: Input shape is usually (max_len,) and the mappings\n",
        "    \n",
        "    Output: a model instance in keras    \n",
        "    \"\"\"\n",
        "    \n",
        "    # Sentence_indices is the input of the graph\n",
        "    # From now on I only create the network\n",
        "    \n",
        "    sentence_indices = Input(input_shape, dtype = \"int32\") # Layer, not a \n",
        "    \n",
        "    # embedding layer\n",
        "    \n",
        "    embedding_layer = pretrained_embedding_layer(word_to_vec_map, word_to_index) # Function!!!!\n",
        "    \n",
        "    embeddings = embedding_layer(sentence_indices) # The function above returns a LAYER! this is why I don't do X = conv2d(...)(X)\n",
        "    \n",
        "    # \"Normal\" LSTM layers\n",
        "    \n",
        "    X = LSTM(128, return_sequences = True)(embeddings) # This is normal syntax\n",
        "    \n",
        "    X = Dropout(0.5)(X)\n",
        "    \n",
        "    # Second LSTM + dropout\n",
        "    \n",
        "    X = LSTM(128, return_sequences = False)(X)\n",
        "    X = Dropout(0.5)(X)\n",
        "    \n",
        "    # Dense with 5 neurons, for the softmax\n",
        "    \n",
        "    X = Dense(5)(X)\n",
        "    X = Activation(\"softmax\")(X)\n",
        "    \n",
        "    model = Model(inputs = sentence_indices, outputs = X)\n",
        "    \n",
        "    return model\n",
        "    \n",
        "    "
      ],
      "execution_count": 0,
      "outputs": []
    },
    {
      "cell_type": "code",
      "metadata": {
        "id": "k_1-hqkVVUgc",
        "colab_type": "code",
        "colab": {
          "base_uri": "https://localhost:8080/",
          "height": 425
        },
        "outputId": "14da0c18-13ef-4023-b6a4-5a9481910cee"
      },
      "source": [
        "max_len = 10\n",
        "\n",
        "the_model = Emojifyv2((max_len,), word_to_vec_map, word_to_index)\n",
        "\n",
        "the_model.summary()"
      ],
      "execution_count": 27,
      "outputs": [
        {
          "output_type": "stream",
          "text": [
            "Model: \"model_3\"\n",
            "_________________________________________________________________\n",
            "Layer (type)                 Output Shape              Param #   \n",
            "=================================================================\n",
            "input_3 (InputLayer)         (None, 10)                0         \n",
            "_________________________________________________________________\n",
            "embedding_4 (Embedding)      (None, 10, 50)            20000050  \n",
            "_________________________________________________________________\n",
            "lstm_5 (LSTM)                (None, 10, 128)           91648     \n",
            "_________________________________________________________________\n",
            "dropout_5 (Dropout)          (None, 10, 128)           0         \n",
            "_________________________________________________________________\n",
            "lstm_6 (LSTM)                (None, 128)               131584    \n",
            "_________________________________________________________________\n",
            "dropout_6 (Dropout)          (None, 128)               0         \n",
            "_________________________________________________________________\n",
            "dense_3 (Dense)              (None, 5)                 645       \n",
            "_________________________________________________________________\n",
            "activation_3 (Activation)    (None, 5)                 0         \n",
            "=================================================================\n",
            "Total params: 20,223,927\n",
            "Trainable params: 223,877\n",
            "Non-trainable params: 20,000,050\n",
            "_________________________________________________________________\n"
          ],
          "name": "stdout"
        }
      ]
    },
    {
      "cell_type": "code",
      "metadata": {
        "id": "wrD8UvZyWTck",
        "colab_type": "code",
        "colab": {}
      },
      "source": [
        "plot_model(the_model, to_file = \"LSTM_net.png\", show_shapes = True)"
      ],
      "execution_count": 0,
      "outputs": []
    },
    {
      "cell_type": "markdown",
      "metadata": {
        "id": "DMBv4fkcYhKc",
        "colab_type": "text"
      },
      "source": [
        "This seems correct. Let's compile to see if the model works."
      ]
    },
    {
      "cell_type": "code",
      "metadata": {
        "id": "3oPUJw0XYmAa",
        "colab_type": "code",
        "colab": {
          "base_uri": "https://localhost:8080/",
          "height": 71
        },
        "outputId": "eb87eb78-e1a1-40b1-b611-5dc0e9daefca"
      },
      "source": [
        "optim = optimizers.Adam(lr = 1e-3)\n",
        "\n",
        "hist = History()\n",
        "\n",
        "the_model.compile(loss = \"categorical_crossentropy\", optimizer = optim, metrics = [\"accuracy\"])"
      ],
      "execution_count": 31,
      "outputs": [
        {
          "output_type": "stream",
          "text": [
            "WARNING:tensorflow:From /usr/local/lib/python3.6/dist-packages/keras/optimizers.py:793: The name tf.train.Optimizer is deprecated. Please use tf.compat.v1.train.Optimizer instead.\n",
            "\n"
          ],
          "name": "stdout"
        }
      ]
    },
    {
      "cell_type": "code",
      "metadata": {
        "id": "MXwyYzk8ahMt",
        "colab_type": "code",
        "colab": {}
      },
      "source": [
        "X_train_indices = sentences_to_indices(X_train, word_to_index, max_len)\n",
        "\n",
        "Y_train_oh = convert_to_one_hot(y_train, C = 5)"
      ],
      "execution_count": 0,
      "outputs": []
    },
    {
      "cell_type": "code",
      "metadata": {
        "id": "wcYsLkwbaJKa",
        "colab_type": "code",
        "colab": {}
      },
      "source": [
        "num_epochs = 50\n",
        "b_size = 32\n",
        "\n",
        "the_model.fit(X_train_indices, Y_train_oh, epochs = num_epochs,batch_size = b_size, callbacks = [hist])"
      ],
      "execution_count": 0,
      "outputs": []
    },
    {
      "cell_type": "markdown",
      "metadata": {
        "id": "zKK-0HXXbPUp",
        "colab_type": "text"
      },
      "source": [
        "The model is very small, so it runs very quickly and the train accuracy should be close to 1. Beware of overfitting! However, let's check the test accuracy to see. And to plot the history."
      ]
    },
    {
      "cell_type": "code",
      "metadata": {
        "id": "WrGleL3Ub6h_",
        "colab_type": "code",
        "colab": {
          "base_uri": "https://localhost:8080/",
          "height": 51
        },
        "outputId": "aa84e376-31dc-463f-9b1c-7a33109a0e28"
      },
      "source": [
        "X_test_indices = sentences_to_indices(X_test, word_to_index, max_len)\n",
        "Y_train_oh = convert_to_one_hot(y_test, C = 5)\n",
        "\n",
        "loss, acc = the_model.evaluate(X_test_indices, Y_train_oh)\n",
        "\n",
        "print(\"Test accuracy = \", acc)"
      ],
      "execution_count": 36,
      "outputs": [
        {
          "output_type": "stream",
          "text": [
            "56/56 [==============================] - 0s 4ms/step\n",
            "Test accuracy =  0.8392857142857143\n"
          ],
          "name": "stdout"
        }
      ]
    },
    {
      "cell_type": "code",
      "metadata": {
        "id": "PwHLMr0ncpzC",
        "colab_type": "code",
        "colab": {
          "base_uri": "https://localhost:8080/",
          "height": 34
        },
        "outputId": "6931deca-52e9-41ad-b429-624687b46698"
      },
      "source": [
        "print(hist.history.keys())"
      ],
      "execution_count": 39,
      "outputs": [
        {
          "output_type": "stream",
          "text": [
            "dict_keys(['loss', 'acc'])\n"
          ],
          "name": "stdout"
        }
      ]
    },
    {
      "cell_type": "code",
      "metadata": {
        "id": "YQAQ-rU6c2XG",
        "colab_type": "code",
        "colab": {
          "base_uri": "https://localhost:8080/",
          "height": 298
        },
        "outputId": "36660d51-5ecc-4876-d380-af20d39ab6a0"
      },
      "source": [
        "plt.figure();\n",
        "plt.title(\"Loss over number of epochs\")\n",
        "\n",
        "plt.plot(range(num_epochs), list(hist.history.values())[1])"
      ],
      "execution_count": 41,
      "outputs": [
        {
          "output_type": "execute_result",
          "data": {
            "text/plain": [
              "[<matplotlib.lines.Line2D at 0x7fbdcdf77b00>]"
            ]
          },
          "metadata": {
            "tags": []
          },
          "execution_count": 41
        },
        {
          "output_type": "display_data",
          "data": {
            "image/png": "[encoded data removed]",
            "text/plain": [
              "<Figure size 432x288 with 1 Axes>"
            ]
          },
          "metadata": {
            "tags": []
          }
        }
      ]
    },
    {
      "cell_type": "markdown",
      "metadata": {
        "id": "-jf6rBBadpQX",
        "colab_type": "text"
      },
      "source": [
        "Not too bad, but this was not as interesting as I expected. Let's do something else."
      ]
    }
  ]
}